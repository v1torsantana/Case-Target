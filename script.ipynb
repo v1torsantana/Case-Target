{
 "cells": [
  {
   "cell_type": "code",
   "execution_count": null,
   "metadata": {},
   "outputs": [],
   "source": [
    "# VITOR DA SILVA SANT'ANA\n",
    "# vitor.ssantana07@gmail.com\n",
    "# (11) 97217-8418"
   ]
  },
  {
   "cell_type": "code",
   "execution_count": 56,
   "metadata": {},
   "outputs": [
    {
     "name": "stdout",
     "output_type": "stream",
     "text": [
      "[0, 1, 1, 2, 3, 5, 8, 13, 21]\n",
      "O número está contido na sequência de Fibonacci\n"
     ]
    }
   ],
   "source": [
    "#Inicializando a sequência de Fibonacci\n",
    "fibonacci = [0,1]\n",
    "#Número de entrada do usuário\n",
    "numero_entrada=8\n",
    "#Iterando do 3 item (já há 2 números na lista ) até o número de vezes que o usuário pediu\n",
    "for i in range(2, numero_entrada+1):\n",
    "    #'j' irá receber o a soma dos números que estão: antes dele e dois antes dele em Fibonacci\n",
    "    j = fibonacci[i-1] + fibonacci[i-2]\n",
    "    #Coloca o resultado na lista de Fibonacci\n",
    "    fibonacci.append(j)\n",
    "\n",
    "print(fibonacci)\n",
    "#Confere se o número inserido está na sequência de Fibonacci\n",
    "if numero_entrada in fibonacci:\n",
    "    print(\"O número está contido na sequência de Fibonacci\")\n",
    "else:\n",
    "    print(\"O número não está contido na sequência de Fibonacci\")"
   ]
  },
  {
   "cell_type": "code",
   "execution_count": 57,
   "metadata": {},
   "outputs": [
    {
     "name": "stdout",
     "output_type": "stream",
     "text": [
      "A letra A aparece 1 vezes\n"
     ]
    }
   ],
   "source": [
    "#Definição da string que será parâmetro para a função\n",
    "string = 'The quick brown fox jumps over the lazy dog'\n",
    "#Definição da função, com o paramêtro de uma string, que irá analisar se existe \"A\" nessa string\n",
    "def check_A(string):\n",
    "    #Inicializando a contagem de quantas vezes aparece a letra \"A\"\n",
    "    contagem = 0\n",
    "    #Tornando a string toda maiúscula pois, como ordenado no case, não há diferença se a letra for maiúscula ou minúscula\n",
    "    string = string.upper()\n",
    "    \n",
    "    #Analisando se há letra há nessa string\n",
    "    if \"A\" in string:\n",
    "    #Se houver, itera \"j\" dentro da string\n",
    "        for j in string:\n",
    "            #Se o \"j\" atual for igual a A (após a string se tornar toda maiúscula)\n",
    "            if \"A\" == j:\n",
    "                #A contagem aumentará em 1\n",
    "                contagem += 1\n",
    "        #Printando quantas vezes a letra A aparece\n",
    "        print(f'A letra A aparece {contagem} vezes')\n",
    "    #Se não houver letra A, nem roda o for, apenas avisa que não há letra A na string\n",
    "    else:\n",
    "        print(\"Não há letra A nessa string\")\n",
    "#Execução da função       \n",
    "check_A(string)\n"
   ]
  },
  {
   "cell_type": "code",
   "execution_count": 62,
   "metadata": {},
   "outputs": [
    {
     "name": "stdout",
     "output_type": "stream",
     "text": [
      "O resultado de soma será: 77\n"
     ]
    }
   ],
   "source": [
    "#Trazendo o código para python\n",
    "indice = 12\n",
    "soma = 0\n",
    "k = 1\n",
    " \n",
    "while k < indice:\n",
    "    k += 1\n",
    "    soma += k\n",
    "\n",
    "print(f'O resultado de soma será: {soma}')\n",
    "\n"
   ]
  },
  {
   "cell_type": "code",
   "execution_count": 63,
   "metadata": {},
   "outputs": [],
   "source": [
    "#a) 1, 3, 5, 7, ___\n",
    "#b) 2, 4, 8, 16, 32, 64, ____\n",
    "#c) 0, 1, 4, 9, 16, 25, 36, ____\n",
    "#d) 4, 16, 36, 64, ____\n",
    "#e) 1, 1, 2, 3, 5, 8, ____\n",
    "#f) 2, 10, 12, 16, 17, 18, 19, ____\n",
    "\n",
    "# a -> 9\n",
    "# b -> 128\n",
    "# c -> 49\n",
    "# d -> 100\n",
    "# e -> 22"
   ]
  },
  {
   "cell_type": "code",
   "execution_count": 64,
   "metadata": {},
   "outputs": [],
   "source": [
    "#Será necessário ligar uma das lâmpadas, escolhendo a lâmpada 1, por alguns minutos, desligamos esta lâmpada e acendemos outra, escolhemos a número 2.\n",
    "#Indo até uma das salas, escolhendo a sala 1, a lâmpada que estiver apagada e quente ou perto disso será a remetente ao interruptor 1,\n",
    "#pois ficou acesa por um bom tempo e foi desligada, a que estiver acesa será a remetente ao interruptor número 2, pois foi deixada acesa,\n",
    "#e a restante será a lâmpada rementente ao interruptor 3."
   ]
  }
 ],
 "metadata": {
  "kernelspec": {
   "display_name": "Python 3",
   "language": "python",
   "name": "python3"
  },
  "language_info": {
   "codemirror_mode": {
    "name": "ipython",
    "version": 3
   },
   "file_extension": ".py",
   "mimetype": "text/x-python",
   "name": "python",
   "nbconvert_exporter": "python",
   "pygments_lexer": "ipython3",
   "version": "3.12.1"
  }
 },
 "nbformat": 4,
 "nbformat_minor": 2
}
